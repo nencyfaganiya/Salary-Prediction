{
  "nbformat": 4,
  "nbformat_minor": 0,
  "metadata": {
    "colab": {
      "provenance": [],
      "toc_visible": true,
      "authorship_tag": "ABX9TyNlRnGP4Hc97wFgoGo1wXGm",
      "include_colab_link": true
    },
    "kernelspec": {
      "name": "python3",
      "display_name": "Python 3"
    },
    "language_info": {
      "name": "python"
    }
  },
  "cells": [
    {
      "cell_type": "markdown",
      "metadata": {
        "id": "view-in-github",
        "colab_type": "text"
      },
      "source": [
        "<a href=\"https://colab.research.google.com/github/nencyfaganiya/Salary-Prediction/blob/main/salary_prediction_linear_regression.ipynb\" target=\"_parent\"><img src=\"https://colab.research.google.com/assets/colab-badge.svg\" alt=\"Open In Colab\"/></a>"
      ]
    },
    {
      "cell_type": "code",
      "metadata": {
        "id": "6Q3wk5TJ5nKX"
      },
      "source": [
        "import pandas as pd\n",
        "import numpy as np\n",
        "import matplotlib.pyplot as plt"
      ],
      "execution_count": null,
      "outputs": []
    },
    {
      "cell_type": "code",
      "metadata": {
        "colab": {
          "base_uri": "https://localhost:8080/",
          "height": 204
        },
        "id": "J1kLV9mz58KT",
        "outputId": "10705eec-327d-4b22-f69c-0846c600ce04"
      },
      "source": [
        "data = pd.read_csv(\"/content/Salary_Data.csv\")\n",
        "data.head()"
      ],
      "execution_count": null,
      "outputs": [
        {
          "output_type": "execute_result",
          "data": {
            "text/html": [
              "<div>\n",
              "<style scoped>\n",
              "    .dataframe tbody tr th:only-of-type {\n",
              "        vertical-align: middle;\n",
              "    }\n",
              "\n",
              "    .dataframe tbody tr th {\n",
              "        vertical-align: top;\n",
              "    }\n",
              "\n",
              "    .dataframe thead th {\n",
              "        text-align: right;\n",
              "    }\n",
              "</style>\n",
              "<table border=\"1\" class=\"dataframe\">\n",
              "  <thead>\n",
              "    <tr style=\"text-align: right;\">\n",
              "      <th></th>\n",
              "      <th>YearsExperience</th>\n",
              "      <th>Salary</th>\n",
              "    </tr>\n",
              "  </thead>\n",
              "  <tbody>\n",
              "    <tr>\n",
              "      <th>0</th>\n",
              "      <td>1.1</td>\n",
              "      <td>39343.0</td>\n",
              "    </tr>\n",
              "    <tr>\n",
              "      <th>1</th>\n",
              "      <td>1.3</td>\n",
              "      <td>46205.0</td>\n",
              "    </tr>\n",
              "    <tr>\n",
              "      <th>2</th>\n",
              "      <td>1.5</td>\n",
              "      <td>37731.0</td>\n",
              "    </tr>\n",
              "    <tr>\n",
              "      <th>3</th>\n",
              "      <td>2.0</td>\n",
              "      <td>43525.0</td>\n",
              "    </tr>\n",
              "    <tr>\n",
              "      <th>4</th>\n",
              "      <td>2.2</td>\n",
              "      <td>39891.0</td>\n",
              "    </tr>\n",
              "  </tbody>\n",
              "</table>\n",
              "</div>"
            ],
            "text/plain": [
              "   YearsExperience   Salary\n",
              "0              1.1  39343.0\n",
              "1              1.3  46205.0\n",
              "2              1.5  37731.0\n",
              "3              2.0  43525.0\n",
              "4              2.2  39891.0"
            ]
          },
          "metadata": {
            "tags": []
          },
          "execution_count": 6
        }
      ]
    },
    {
      "cell_type": "code",
      "metadata": {
        "colab": {
          "base_uri": "https://localhost:8080/"
        },
        "id": "iNyCPG3T6F5l",
        "outputId": "56a6d129-8b0a-45e4-8d55-2957b05eb1b7"
      },
      "source": [
        "data.info()"
      ],
      "execution_count": null,
      "outputs": [
        {
          "output_type": "stream",
          "text": [
            "<class 'pandas.core.frame.DataFrame'>\n",
            "RangeIndex: 30 entries, 0 to 29\n",
            "Data columns (total 2 columns):\n",
            " #   Column           Non-Null Count  Dtype  \n",
            "---  ------           --------------  -----  \n",
            " 0   YearsExperience  30 non-null     float64\n",
            " 1   Salary           30 non-null     float64\n",
            "dtypes: float64(2)\n",
            "memory usage: 608.0 bytes\n"
          ],
          "name": "stdout"
        }
      ]
    },
    {
      "cell_type": "code",
      "metadata": {
        "id": "fAdYMU8j6G2W"
      },
      "source": [
        "### Features should be an array of shape(no.of samples,no.of features)\n",
        "### Target should be an array of shape either (no.of samples,no.of target) or (no.of sample,)"
      ],
      "execution_count": null,
      "outputs": []
    },
    {
      "cell_type": "code",
      "metadata": {
        "id": "fUDHZ6cd7Unx"
      },
      "source": [
        "### Divide the data into features and target\n",
        "x = np.array(data.iloc[:][[\"YearsExperience\"]])\n",
        "#x = np.array(data.iloc[:,0])    ### years of experience\n",
        "#x = x.reshape(len(x),1)"
      ],
      "execution_count": null,
      "outputs": []
    },
    {
      "cell_type": "code",
      "metadata": {
        "colab": {
          "base_uri": "https://localhost:8080/"
        },
        "id": "nP41_28U-PbV",
        "outputId": "1b6dced3-1a2d-4a8f-f9d0-f1f48c5f7241"
      },
      "source": [
        "y = np.array(data.iloc[:,1])        ### salary\n",
        "y"
      ],
      "execution_count": null,
      "outputs": [
        {
          "output_type": "execute_result",
          "data": {
            "text/plain": [
              "array([ 39343.,  46205.,  37731.,  43525.,  39891.,  56642.,  60150.,\n",
              "        54445.,  64445.,  57189.,  63218.,  55794.,  56957.,  57081.,\n",
              "        61111.,  67938.,  66029.,  83088.,  81363.,  93940.,  91738.,\n",
              "        98273., 101302., 113812., 109431., 105582., 116969., 112635.,\n",
              "       122391., 121872.])"
            ]
          },
          "metadata": {
            "tags": []
          },
          "execution_count": 13
        }
      ]
    },
    {
      "cell_type": "code",
      "metadata": {
        "colab": {
          "base_uri": "https://localhost:8080/"
        },
        "id": "_KgMbyVc-SJd",
        "outputId": "9f25f57e-aa07-4e7b-855a-89bcd4aff265"
      },
      "source": [
        "### Split the data into training and testing\n",
        "x_new = x[0:10]         ## take 10 data for test\n",
        "y_new = y[0:10]\n",
        "x_new\n",
        "y_new"
      ],
      "execution_count": null,
      "outputs": [
        {
          "output_type": "execute_result",
          "data": {
            "text/plain": [
              "array([39343., 46205., 37731., 43525., 39891., 56642., 60150., 54445.,\n",
              "       64445., 57189.])"
            ]
          },
          "metadata": {
            "tags": []
          },
          "execution_count": 53
        }
      ]
    },
    {
      "cell_type": "code",
      "metadata": {
        "id": "gu4EceQI-U9c"
      },
      "source": [
        "from sklearn.model_selection import train_test_split\n",
        "a,b,c,d = train_test_split(x_new,y_new,train_size=0.70,random_state=1)"
      ],
      "execution_count": null,
      "outputs": []
    },
    {
      "cell_type": "code",
      "metadata": {
        "colab": {
          "base_uri": "https://localhost:8080/"
        },
        "id": "tYgK647sBa-J",
        "outputId": "0b93a6e8-50c4-4360-822b-9f0398a9db62"
      },
      "source": [
        "a  ## 70% of x\n",
        "b  ## 30% of x\n",
        "c  ## 70% of y\n",
        "d  ## 30% of y"
      ],
      "execution_count": null,
      "outputs": [
        {
          "output_type": "execute_result",
          "data": {
            "text/plain": [
              "array([37731., 57189., 60150.])"
            ]
          },
          "metadata": {
            "tags": []
          },
          "execution_count": 17
        }
      ]
    },
    {
      "cell_type": "code",
      "metadata": {
        "id": "_Zvv3xTDBdVO"
      },
      "source": [
        "### split traing and testing data\n",
        "from sklearn.model_selection import train_test_split\n",
        "xtrain,xtest,ytrain,ytest = train_test_split(x,y,train_size=0.80,random_state=4697)"
      ],
      "execution_count": null,
      "outputs": []
    },
    {
      "cell_type": "code",
      "metadata": {
        "colab": {
          "base_uri": "https://localhost:8080/"
        },
        "id": "qAAGqqw4BfZS",
        "outputId": "2b4050fe-880e-4ba2-ab88-55fe3ded2ced"
      },
      "source": [
        "ytest"
      ],
      "execution_count": null,
      "outputs": [
        {
          "output_type": "execute_result",
          "data": {
            "text/plain": [
              "array([46205., 39343., 61111., 57189., 98273., 93940.])"
            ]
          },
          "metadata": {
            "tags": []
          },
          "execution_count": 34
        }
      ]
    },
    {
      "cell_type": "code",
      "metadata": {
        "id": "3WH3l63GBiKo"
      },
      "source": [
        "### Create the model\n",
        "from sklearn.linear_model import LinearRegression\n",
        "model = LinearRegression()"
      ],
      "execution_count": null,
      "outputs": []
    },
    {
      "cell_type": "code",
      "metadata": {
        "colab": {
          "base_uri": "https://localhost:8080/"
        },
        "id": "MpTZXQzBF9nL",
        "outputId": "012a232b-0578-44d7-ad36-625c6384fc2a"
      },
      "source": [
        "### Perform the training\n",
        "model.fit(xtrain,ytrain)"
      ],
      "execution_count": null,
      "outputs": [
        {
          "output_type": "execute_result",
          "data": {
            "text/plain": [
              "LinearRegression(copy_X=True, fit_intercept=True, n_jobs=None, normalize=False)"
            ]
          },
          "metadata": {
            "tags": []
          },
          "execution_count": 41
        }
      ]
    },
    {
      "cell_type": "code",
      "metadata": {
        "colab": {
          "base_uri": "https://localhost:8080/"
        },
        "id": "9yXGUJZCGAD_",
        "outputId": "b3ee2d98-64dc-4b6a-fee9-e6d01c261566"
      },
      "source": [
        "### Test the model (Prediction)\n",
        "ypred = model.predict(xtest)\n",
        "ypred"
      ],
      "execution_count": null,
      "outputs": [
        {
          "output_type": "execute_result",
          "data": {
            "text/plain": [
              "array([ 44788.50460346, 107700.91806713, 100188.98810131,  81409.16318679,\n",
              "       122724.77799875,  89860.08439832])"
            ]
          },
          "metadata": {
            "tags": []
          },
          "execution_count": 42
        }
      ]
    },
    {
      "cell_type": "code",
      "metadata": {
        "colab": {
          "base_uri": "https://localhost:8080/"
        },
        "id": "6QcY5uMdG7oZ",
        "outputId": "29b7661e-728b-4d76-cac2-ddbfb7ee8917"
      },
      "source": [
        "xtest\n",
        "ytest"
      ],
      "execution_count": null,
      "outputs": [
        {
          "output_type": "execute_result",
          "data": {
            "text/plain": [
              "array([83088., 98273., 63218., 93940., 61111., 91738.])"
            ]
          },
          "metadata": {
            "tags": []
          },
          "execution_count": 25
        }
      ]
    },
    {
      "cell_type": "code",
      "metadata": {
        "colab": {
          "base_uri": "https://localhost:8080/"
        },
        "id": "AWfDPkdxG_D4",
        "outputId": "946a0c52-2eb6-4d32-88c5-960f6483ce1d"
      },
      "source": [
        "from sklearn.metrics import r2_score\n",
        "r2 = r2_score(ytest,ypred)\n",
        "r2                    #### model is  76.16% accurate at random_state=1"
      ],
      "execution_count": null,
      "outputs": [
        {
          "output_type": "execute_result",
          "data": {
            "text/plain": [
              "0.9974925617006956"
            ]
          },
          "metadata": {
            "tags": []
          },
          "execution_count": 43
        }
      ]
    },
    {
      "cell_type": "code",
      "metadata": {
        "colab": {
          "base_uri": "https://localhost:8080/",
          "height": 320
        },
        "id": "J9C-Tt8VHDcC",
        "outputId": "182f9228-39ec-447d-8b0f-34f54acbde9a"
      },
      "source": [
        "### Plot the line of regression (Training Samples)\n",
        "plt.figure(figsize=(8,5))\n",
        "plt.scatter(xtrain,ytrain,color='blue',s=100,label=\"Actual Point\")\n",
        "plt.scatter(xtrain,model.predict(xtrain),color='red',s=100,label=\"Predicted Point\")\n",
        "plt.plot(xtrain,model.predict(xtrain), linestyle='dotted', color='orange',label=\"Line of regression Point\")\n",
        "plt.show()"
      ],
      "execution_count": null,
      "outputs": [
        {
          "output_type": "display_data",
          "data": {
            "image/png": "[encoded data removed]",
            "text/plain": [
              "<Figure size 576x360 with 1 Axes>"
            ]
          },
          "metadata": {
            "tags": [],
            "needs_background": "light"
          }
        }
      ]
    },
    {
      "cell_type": "code",
      "metadata": {
        "colab": {
          "base_uri": "https://localhost:8080/",
          "height": 320
        },
        "id": "ME__PgFKH5LQ",
        "outputId": "9f4cf7ee-6434-4dcb-b3e5-050c6c2b54b8"
      },
      "source": [
        "### Plot the line of regression (Testing Samples)\n",
        "plt.figure(figsize=(8,5))\n",
        "plt.scatter(xtest,ytest,color='blue',s=100,label=\"Actual Point\")\n",
        "plt.scatter(xtest,model.predict(xtest),color='red',s=100,label=\"Predicted Point\")\n",
        "plt.plot(xtest,model.predict(xtest),linestyle='dotted',color='orange',label=\"Line of Regression\")\n",
        "plt.show()"
      ],
      "execution_count": null,
      "outputs": [
        {
          "output_type": "display_data",
          "data": {
            "image/png": "[encoded data removed]",
            "text/plain": [
              "<Figure size 576x360 with 1 Axes>"
            ]
          },
          "metadata": {
            "tags": [],
            "needs_background": "light"
          }
        }
      ]
    },
    {
      "cell_type": "code",
      "metadata": {
        "id": "ZilVHMR1JZyk"
      },
      "source": [
        "scores = []\n",
        "for i in range(5000):\n",
        "  xtrain1,xtest1,ytrain1,ytest1 = train_test_split(x,y,train_size=0.80,random_state=i)\n",
        "  model1 = LinearRegression()\n",
        "  model1.fit(xtrain1,ytrain1)\n",
        "  ypred1 = model1.predict(xtest1)\n",
        "  scores.append(r2_score(ytest1,ypred1))"
      ],
      "execution_count": null,
      "outputs": []
    },
    {
      "cell_type": "code",
      "metadata": {
        "colab": {
          "base_uri": "https://localhost:8080/"
        },
        "id": "-rmjcITsMOnj",
        "outputId": "f50ea6f2-efa7-4504-8e52-08517376b7c3"
      },
      "source": [
        "np.max(scores)    ## maximum accuracy"
      ],
      "execution_count": null,
      "outputs": [
        {
          "output_type": "execute_result",
          "data": {
            "text/plain": [
              "0.9974925617006956"
            ]
          },
          "metadata": {
            "tags": []
          },
          "execution_count": 37
        }
      ]
    },
    {
      "cell_type": "code",
      "metadata": {
        "colab": {
          "base_uri": "https://localhost:8080/"
        },
        "id": "gKY1CuqzMQtd",
        "outputId": "6b1aea73-0125-43f9-e0ec-7e9e50aedc50"
      },
      "source": [
        "np.argmax(scores)     ## random_state value"
      ],
      "execution_count": null,
      "outputs": [
        {
          "output_type": "execute_result",
          "data": {
            "text/plain": [
              "4697"
            ]
          },
          "metadata": {
            "tags": []
          },
          "execution_count": 38
        }
      ]
    },
    {
      "cell_type": "code",
      "metadata": {
        "colab": {
          "base_uri": "https://localhost:8080/"
        },
        "id": "B0XJIgGJMTau",
        "outputId": "b13db422-984e-4286-828c-bb2c7273d23c"
      },
      "source": [
        "model.predict([[15]])       ## start using the machine"
      ],
      "execution_count": null,
      "outputs": [
        {
          "output_type": "execute_result",
          "data": {
            "text/plain": [
              "array([166857.36654789])"
            ]
          },
          "metadata": {
            "tags": []
          },
          "execution_count": 48
        }
      ]
    },
    {
      "cell_type": "code",
      "metadata": {
        "colab": {
          "base_uri": "https://localhost:8080/"
        },
        "id": "PqO_On70NGxN",
        "outputId": "8958c03e-622e-4d1b-f5cc-af1292051c2e"
      },
      "source": [
        "years = float(input(\"Enter experience in years \"))\n",
        "salary = model.predict([[years]])\n",
        "print(\"The salary is Rs \"+str(salary[0]))"
      ],
      "execution_count": null,
      "outputs": [
        {
          "output_type": "stream",
          "text": [
            "Enter experience in years 11\n",
            "The salary is Rs 129297.71671883277\n"
          ],
          "name": "stdout"
        }
      ]
    },
    {
      "cell_type": "code",
      "metadata": {
        "colab": {
          "base_uri": "https://localhost:8080/"
        },
        "id": "rPOb3S9bPPwn",
        "outputId": "41c42ed8-5e10-4955-9a8a-6cfac7ec55d6"
      },
      "source": [
        "print(\"The salary is Rs\",str(salary[0]))"
      ],
      "execution_count": null,
      "outputs": [
        {
          "output_type": "stream",
          "text": [
            "The salary is Rs 129297.71671883277\n"
          ],
          "name": "stdout"
        }
      ]
    },
    {
      "cell_type": "code",
      "metadata": {
        "id": "ziWEItZiPS1N"
      },
      "source": [],
      "execution_count": null,
      "outputs": []
    }
  ]
}